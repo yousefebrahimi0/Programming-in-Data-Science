{
 "cells": [
  {
   "cell_type": "markdown",
   "metadata": {
    "tags": []
   },
   "source": [
    "# Programming for Data Science 2022\n",
    "## Homework Assigment One\n",
    "\n",
    "Homework activities aim, not only, at testing your ability to put into practice the concepts you have learned during the Lectures and Labs, but also your ability to explore the Python documentation as a resource. \n",
    "\n",
    "Above all, it is an opportunity for you to challenge yourself and practice. If you are having difficulties with the assignment reach out for support.\n",
    "\n",
    "The Homework Assigment One is divided into **three parts**:\n",
    "1. Explore the core building blocks of programming, focusing in variables, data structures, and their manipulation;\n",
    "2. Explore data loading and analysis using the core elements of Python, without fancy third-party libraries;\n",
    "3. Explore functional programming by defining different functions and operating with the map() and filter().\n",
    "\n",
    "Your submission will be graded according to the following guidelines:\n",
    "1. Execution (does your program does what is asked from the exercise?\n",
    "2. Objectivity (are you using the adequate libraries? are you using a library ... );\n",
    "3. Readibility of your code (that includes comments, naming of variables, supporting text, etc ...).\n",
    "\n",
    "This assignment is to be done in groups of two, groups that are caught cheating will obtain a score of 0 points. \\\n",
    "\n",
    "The Homeworking Assignment One is worth **20%** of your final grade.\n",
    "\n",
    "The submission package should correspond to a .zip archive (.rar files are not acceptable) with the following files:\n",
    "1. Jupyter Notebook with the output of all the cells;\n",
    "2. PDF/HTML of your Jupyter Notebook;\n",
    "3. All text or .csv files exported as part of the exercises.\n",
    "\n",
    "#### Important Notes: \n",
    "- **You are ONLY allowed to use any library from the Python STL (see here https://docs.python.org/3/library/).**\n",
    "- **Comment your code properly, which includes naming your variables in a meaningful manner. Badly documented code will be penalized.**</b>\n",
    "- **Submissions in non .zip format will be penalize with 2 points.**\n",
    "\n",
    "Submission is done through the respective Moodle activity.\\\n",
    "Deadline is **2022-10-02**, a Sunday, at 23:59.\\\n",
    "A penality of 1 point per day late will be applied to late deliveries."
   ]
  },
  {
   "cell_type": "markdown",
   "metadata": {},
   "source": [
    "## Group Registration\n",
    "\n",
    "Edit this cell with the information of the authors of this submission.\n",
    "\n",
    "|      |     Student Name     |\n",
    "|---   |         ---          |\n",
    "| 1    |      Miguel Soares   |\n",
    "| 2    |      Yousef Ebrahimi |\n",
    "\n",
    "# <span style=\"color:brown\"> Part 1 -  Variable Declaration and Manipulation </span> \n",
    "\n",
    "## Exercise I - of Lists and Random numbers\n",
    "\n",
    "**Q**: Declare a variable X that stores a list of 100 integers randomly sampled between -25 and 25.<br>\n",
    "Note: You are not allowed to use Numpy or Scipy."
   ]
  },
  {
   "cell_type": "code",
   "execution_count": 2,
   "metadata": {},
   "outputs": [
    {
     "name": "stdout",
     "output_type": "stream",
     "text": [
      "List of 100 integers randomly sampled between -25 and 25:\n",
      "[-23, 14, -23, -20, -8, 2, 6, 7, 4, -20, -17, 2, 12, 4, 0, 22, -14, 10, 19, -12, -2, 24, 16, -23, -24, -2, 19, -20, 25, 19, -25, -24, 6, 10, 11, -11, -6, 22, 12, -17, -4, 10, 22, 23, 11, -20, 11, 10, 20, -24, -18, 19, -19, -24, -20, -10, 21, -22, -4, -21, -14, -5, -25, -3, -16, 12, -23, -14, 5, 3, 7, -12, 9, 22, 19, -15, 13, 18, -1, 2, -11, 19, 10, 18, 5, -9, 22, 17, 6, -23, 19, -2, 24, 6, 22, -19, -1, -25, -14, -2]\n"
     ]
    }
   ],
   "source": [
    "# import library random\n",
    "import random\n",
    "\n",
    "# declaring a new empty list\n",
    "X=[]\n",
    "\n",
    "# cicle for store 100 integers in list X - list comprehensions\n",
    "X=[random.randint(-25,25) for i in range(100)]\n",
    "\n",
    "# printing list X\n",
    "print('List of 100 integers randomly sampled between -25 and 25:\\n{}'.format(X))"
   ]
  },
  {
   "cell_type": "markdown",
   "metadata": {},
   "source": [
    "**Q**: How many odd numbers are in the list X? Check if the numbers that are even are exactly the same as the number of odd numbers, else discard the list and generate a new one.<br>\n",
    "Extra: Can you automatize this pipeline to avoid having to run multiple cells multiple times by hand?"
   ]
  },
  {
   "cell_type": "code",
   "execution_count": 3,
   "metadata": {},
   "outputs": [
    {
     "name": "stdout",
     "output_type": "stream",
     "text": [
      "In initial list X are: 42 odd numbers.\n",
      "Final list: \n",
      "[-24, 24, -1, 23, 22, 7, -16, 25, 21, 6, 11, 13, -13, -10, 19, -24, 10, -13, -12, -25, 1, 18, -23, 7, -17, 22, -3, -5, -2, 2, -6, -11, 4, 17, -24, 3, -8, 7, -17, 24, -6, -4, -4, -12, -21, 20, -7, -4, -8, 7, -5, 6, 0, -2, -22, -2, 3, 5, -16, -9, -25, -23, -18, 5, 15, -25, 5, -23, -10, 23, 10, -12, 16, -2, 4, 22, 6, -17, -8, -22, -11, 18, 4, -24, -9, 20, -13, 25, 19, 15, 24, 10, -1, -23, -5, -22, -1, -17, -14, -3]\n",
      "In final list there are 50 odd numbers.\n"
     ]
    }
   ],
   "source": [
    "# function for count odd numbers in a list\n",
    "def oddnumbercount(lst):\n",
    "    count_odd =0\n",
    "    for num in lst:\n",
    "        if (num % 2) != 0:\n",
    "            count_odd +=1\n",
    "    return count_odd\n",
    "\n",
    "# how many odd numbers are in the initial list ussing function oddnumbercount\n",
    "print('In initial list X are:',oddnumbercount(X),'odd numbers.')\n",
    "\n",
    "\n",
    "# automatize pipeline with a function and while cicle for odd numbers are equal to evan numbers\n",
    "while oddnumbercount(X)!=50:\n",
    "    #Clear list\n",
    "    X=[]\n",
    "\n",
    "    # Cicle for store 100 integers\n",
    "    X= [random.randint(-25,25) for i in range(100)]\n",
    "\n",
    "# printing the final List when odd numbers are equal to evan numbers\n",
    "print('Final list: \\n{}'.format(X))\n",
    "print('In final list there are',oddnumbercount(X),'odd numbers.')\n",
    "    "
   ]
  },
  {
   "cell_type": "markdown",
   "metadata": {},
   "source": [
    "**Q**: Print the number of digits on the 5th and 100th element of the list. <br>\n",
    "Note: For instance, the number 1 contains one digit, the number 10 contains two digits, the number -2 contains one digit."
   ]
  },
  {
   "cell_type": "code",
   "execution_count": 4,
   "metadata": {},
   "outputs": [
    {
     "name": "stdout",
     "output_type": "stream",
     "text": [
      "5th element has 2 digits and 100th element has 1 digits.\n"
     ]
    }
   ],
   "source": [
    "# storing absolute numbers (remove - signal) as string\n",
    "str_1= str(abs(X[4]))\n",
    "str_2= str(abs(X[99]))\n",
    "\n",
    "# using len method for count charaters in a string\n",
    "print ('5th element has {} digits and 100th element has {} digits.'. format(len(str_1),len(str_2)))"
   ]
  },
  {
   "cell_type": "markdown",
   "metadata": {},
   "source": [
    "**Q:** Is the sum of all the numbers in the list even or odd?"
   ]
  },
  {
   "cell_type": "code",
   "execution_count": 5,
   "metadata": {},
   "outputs": [
    {
     "name": "stdout",
     "output_type": "stream",
     "text": [
      "The sum list is evan.\n"
     ]
    }
   ],
   "source": [
    "# declaring a variable with the sum of list values\n",
    "sumlist = sum(X)\n",
    "\n",
    "# printing test - sum of list is even or odd\n",
    "print(\"The sum list is evan.\") if sum(X)%2==0 else print(\"The sum list is odd.\")"
   ]
  },
  {
   "cell_type": "markdown",
   "metadata": {},
   "source": [
    "**Q**: What is the average of all the numbers in the list? What is the standard deviation? <br>"
   ]
  },
  {
   "cell_type": "code",
   "execution_count": 6,
   "metadata": {},
   "outputs": [
    {
     "name": "stdout",
     "output_type": "stream",
     "text": [
      "The avarage is: -1.36 and standard deviation is: 15.02.\n"
     ]
    }
   ],
   "source": [
    "# import library statistics for use functions mean and stdev\n",
    "import statistics\n",
    "\n",
    "# storing avarage and standard deviation of list numbers\n",
    "avglist = statistics.mean(X)\n",
    "stdlist = statistics.stdev(X)\n",
    "\n",
    "# printing avarage and standard deviation with 2 decimal points\n",
    "print('The avarage is: %0.2f and standard deviation is: %0.2f.' %(avglist, stdlist))"
   ]
  },
  {
   "cell_type": "markdown",
   "metadata": {},
   "source": [
    "**Q**: Sort list X in descending order and store the result in variable Xsort. <br>\n",
    "Then replace each value in Xsort with index i as the sum of the values with index i-1 and i. <br> *Per definition Xsort[-1] = 0.*"
   ]
  },
  {
   "cell_type": "code",
   "execution_count": 7,
   "metadata": {},
   "outputs": [
    {
     "name": "stdout",
     "output_type": "stream",
     "text": [
      "Xsort list with sum of values index i-1 and i:\n",
      "[25, 50, 49, 48, 48, 47, 46, 45, 44, 44, 43, 41, 40, 39, 38, 37, 36, 35, 33, 31, 30, 28, 24, 21, 20, 20, 17, 14, 14, 14, 13, 12, 12, 11, 10, 10, 9, 8, 8, 7, 6, 5, 3, 1, -1, -2, -2, -3, -4, -4, -4, -5, -6, -7, -8, -8, -9, -10, -10, -11, -12, -13, -15, -16, -16, -17, -18, -19, -20, -21, -22, -23, -24, -24, -25, -26, -26, -27, -30, -32, -33, -34, -34, -34, -35, -39, -43, -44, -44, -45, -46, -46, -46, -47, -48, -48, -48, -49, -50, -50].\n"
     ]
    }
   ],
   "source": [
    "# reversing list\n",
    "X.sort(reverse=True)\n",
    "\n",
    "# duplicating list (using [:] - if you modify new list then the old list doesn't change)   \n",
    "Xsort = X[:]\n",
    "\n",
    "# sum actual value Xsort[i] with the previous one (Xsort[i-1]) - The reversed function is used for not sum/accumulate previous values (Xsort[i-n])\n",
    "for i in reversed(range(len(Xsort))):\n",
    "    if i>=1:\n",
    "        Xsort[i]=Xsort[i]+Xsort[i-1]\n",
    "    \n",
    "# printing final list Xsort \n",
    "print('Xsort list with sum of values index i-1 and i:\\n{}.'.format(Xsort))"
   ]
  },
  {
   "cell_type": "markdown",
   "metadata": {},
   "source": [
    "## Exercise II - We have a gamer in the room\n",
    "\n",
    "**Q**: Consider the dictionaries  *purchases* and *clients* that are declared in the cells below. <br>\n",
    "1. Create a list with the names of the clients who bought more than one videogame. \n",
    "2. Print the List. <br>\n",
    "3. What is the name of the client that bought more videogames?\n",
    "\n",
    "TIP: You will want to check the methods associated with string manipulation. See the link: <br>\n",
    "https://python-reference.readthedocs.io/en/latest/docs/unicode/index.html"
   ]
  },
  {
   "cell_type": "code",
   "execution_count": 8,
   "metadata": {},
   "outputs": [],
   "source": [
    "# (Notice There are different games associated to each key)\n",
    "\n",
    "purchases = {\n",
    "    \n",
    "    \"1539\":\"Red dead redemption II\",\n",
    "    \"9843\":\"GTA V,FarCry 5\",\n",
    "    \"8472\":\"Canis Canem Edit\",\n",
    "    \"3874\":\"Watchdogs II,South Park: The Stick of Truth\",\n",
    "    \"5783\":\"AC: The Ezio Collection\",\n",
    "    \"9823\":\"For Honor,The Forest,South Park: The Fractured but whole\"\n",
    "    \n",
    "}"
   ]
  },
  {
   "cell_type": "code",
   "execution_count": 9,
   "metadata": {},
   "outputs": [],
   "source": [
    "clients = {\n",
    "    \n",
    "    \"1539\":\"Rick Sanchez\",\n",
    "    \"9843\":\"Morty Smith\",\n",
    "    \"8472\":\"Eve Polastri\",\n",
    "    \"3874\":\"Mildred Ratched\",\n",
    "    \"5783\":\"Alex Vause\",\n",
    "    \"9823\":\"Sheldon Cooper\"\n",
    "    \n",
    "}"
   ]
  },
  {
   "cell_type": "code",
   "execution_count": 10,
   "metadata": {},
   "outputs": [],
   "source": [
    "# declaring a new empty dictionary and store a len of split string by comma\n",
    "purchasescount = {}\n",
    "\n",
    "# using a for loop - New dictionary (count videogames using len of a split string)\n",
    "for key, value in purchases.items():\n",
    "    valuesplit = value.split(',')\n",
    "    purchasescount[key] = len(valuesplit)\n",
    "    \n",
    "# creating a list with purshase number where the sell of videogames is more than 1 \n",
    "nrpurchaseList = [key for (key, value) in purchasescount.items() if value > 1 ]\n",
    "\n",
    "# creating a list with the clients name filtered by their purchases \n",
    "clientList = [value for (key, value) in clients.items() if key in nrpurchaseList]\n",
    "\n"
   ]
  },
  {
   "cell_type": "code",
   "execution_count": 11,
   "metadata": {},
   "outputs": [
    {
     "name": "stdout",
     "output_type": "stream",
     "text": [
      "List of clients who bought more than one videogame: ['Morty Smith', 'Mildred Ratched', 'Sheldon Cooper'].\n"
     ]
    }
   ],
   "source": [
    "# printing clients list bouth more than one videogame\n",
    "print('List of clients who bought more than one videogame: {}.'.format(clientList))"
   ]
  },
  {
   "cell_type": "code",
   "execution_count": 12,
   "metadata": {},
   "outputs": [
    {
     "name": "stdout",
     "output_type": "stream",
     "text": [
      "Client(s) bougth more videogames:['Sheldon Cooper'].\n"
     ]
    }
   ],
   "source": [
    "# creating a list with the purchase number (key) of a maximum number of video games sold in one purchase\n",
    "maxKeyList =[]\n",
    "maxKeyList.append(max(purchasescount, key=purchasescount.get))\n",
    "\n",
    "# name of the client that bought more videogames\n",
    "maxclientList = [value for (key, value) in clients.items() if key in maxKeyList]\n",
    "print ('Client(s) bougth more videogames:{}.'.format(maxclientList))\n",
    "\n",
    "# note: with this resolution, giving the answer in a list, allows to get the name of all the customers \n",
    "# if there are 2 or more customers with the maximum purchase of videogames\n"
   ]
  },
  {
   "cell_type": "markdown",
   "metadata": {},
   "source": [
    "# <span style=\"color:brown\"> Part 2 -  Data loading and analysis  </span>\n",
    "\n",
    "## Exercise I - Alice what do you have to say?\n",
    "\n",
    "Download the file alice.txt to the filepath (i.e., same folder) where you have your notebook."
   ]
  },
  {
   "cell_type": "markdown",
   "metadata": {},
   "source": [
    "**Q**: Load the Alice text file into a variable called Alice. Use a relative filepath in relation to the location of your notebook. <br>\n",
    "Note: You are not allowed to use third-party libraries like Pandas."
   ]
  },
  {
   "cell_type": "code",
   "execution_count": 13,
   "metadata": {},
   "outputs": [
    {
     "name": "stdout",
     "output_type": "stream",
     "text": [
      "Alice was beginning to get very tired of sitting by her sister on the bank, and of having nothing to do: once or twice she had peeped into the book her sister was reading, but it had no pictures or conversations in it, <<and what is the use of a book>>. thought Alice <<without pictures or conversation?>>.\n"
     ]
    }
   ],
   "source": [
    "# opening the file with relative path\n",
    "textFile = \"Alice.txt\"\n",
    "alice = open(textFile, \"r\")\n",
    "\n",
    "# making the whole file one line\n",
    "txtAlice = alice.read().rstrip()\n",
    "\n",
    "# printing text from file\n",
    "print (txtAlice)\n",
    "\n",
    "# closing the file\n",
    "alice.close()"
   ]
  },
  {
   "cell_type": "markdown",
   "metadata": {},
   "source": [
    "**Q**: Create a list in which each element is a word from the file Alice. Store that list in a variable called wAlice. <br>\n",
    "Note: You will need to do some text parsing here. In particular to **split the sentences into words**. It is also a good practice to **normalize words** so that words \"Hello\" and \"hello\" become identical, by making all letters lower case. <br>\n",
    "Tip: check the following links for a discussion on regular expressions. Also consult the methods available for string manipulation.\n",
    "\n",
    "https://docs.python.org/3/library/re.html\n",
    "\n",
    "https://stackoverflow.com/questions/1276764/stripping-everything-but-alphanumeric-chars-from-a-string-in-python"
   ]
  },
  {
   "cell_type": "code",
   "execution_count": 14,
   "metadata": {},
   "outputs": [
    {
     "name": "stdout",
     "output_type": "stream",
     "text": [
      "From textfile Alice.txt, the word list are:\n",
      "['alice', 'was', 'beginning', 'to', 'get', 'very', 'tired', 'of', 'sitting', 'by', 'her', 'sister', 'on', 'the', 'bank', 'and', 'of', 'having', 'nothing', 'to', 'do', 'once', 'or', 'twice', 'she', 'had', 'peeped', 'into', 'the', 'book', 'her', 'sister', 'was', 'reading', 'but', 'it', 'had', 'no', 'pictures', 'or', 'conversations', 'in', 'it', 'and', 'what', 'is', 'the', 'use', 'of', 'a', 'book', 'thought', 'alice', 'without', 'pictures', 'or', 'conversation']\n"
     ]
    }
   ],
   "source": [
    "# import library re\n",
    "import re\n",
    "\n",
    "# Spliting a string into list of words without punctuation using re.split() and regular expression r'\\W+\n",
    "wAlice = [word for word in re.split(r'\\W+', txtAlice.lower()) if word]\n",
    "\n",
    "# printing words list from the file\n",
    "print('From textfile Alice.txt, the word list are:\\n{}'.format(wAlice))"
   ]
  },
  {
   "cell_type": "markdown",
   "metadata": {},
   "source": [
    "#### Using the list wAlice answer the following questions:<br>\n",
    "**Q**: How many words contains the text file Alice.txt? <br>"
   ]
  },
  {
   "cell_type": "code",
   "execution_count": 15,
   "metadata": {},
   "outputs": [
    {
     "name": "stdout",
     "output_type": "stream",
     "text": [
      "The file alice.txt have 57 words.\n"
     ]
    }
   ],
   "source": [
    "# using len function of list to count words(strings)\n",
    "cWords = len(wAlice)\n",
    "\n",
    "# printing length of list (nr of words)\n",
    "print('The file alice.txt have {} words.'.format(cWords))"
   ]
  },
  {
   "cell_type": "markdown",
   "metadata": {},
   "source": [
    "**Q**: What is the longest and smallest word in the text file? (Length here is measured in terms of the number of characters)<br>"
   ]
  },
  {
   "cell_type": "code",
   "execution_count": 16,
   "metadata": {},
   "outputs": [
    {
     "name": "stdout",
     "output_type": "stream",
     "text": [
      "Largest Word(s): ['conversations'].\n",
      "\n",
      "Smallest Word(s): ['a'].\n"
     ]
    }
   ],
   "source": [
    "# using function len and a second list to store and compare Largest value(S) \n",
    "longest = []\n",
    "longest = [word for word in wAlice if len(word) == max([len(word2) for word2 in wAlice])]\n",
    "print('Largest Word(s): {}.'.format(longest))\n",
    "\n",
    "smallest=[]\n",
    "# using function len and a second list to store and compare with Smallest value(S)\n",
    "smallest = [word for word in wAlice if len(word) == min([len(word2) for word2 in wAlice])]\n",
    "print('\\nSmallest Word(s): {}.'.format(smallest))\n",
    "\n"
   ]
  },
  {
   "cell_type": "markdown",
   "metadata": {},
   "source": [
    "**Q**: Delete all the repeated words from wAlice. How many different words does the text contain?"
   ]
  },
  {
   "cell_type": "code",
   "execution_count": 17,
   "metadata": {},
   "outputs": [
    {
     "name": "stdout",
     "output_type": "stream",
     "text": [
      "List without repeated words:\n",
      "['alice', 'was', 'beginning', 'to', 'get', 'very', 'tired', 'of', 'sitting', 'by', 'her', 'sister', 'on', 'the', 'bank', 'and', 'having', 'nothing', 'do', 'once', 'or', 'twice', 'she', 'had', 'peeped', 'into', 'book', 'reading', 'but', 'it', 'no', 'pictures', 'conversations', 'in', 'what', 'is', 'use', 'a', 'thought', 'without', 'conversation'].\n",
      "\n",
      "The file alice.txt have 41 different words.\n"
     ]
    }
   ],
   "source": [
    "# removing duplicates - Create a dictionary, using the List items as keys. \n",
    "# This will automatically remove any duplicates because dictionaries cannot have duplicate keys.\n",
    "wAlice = list(dict.fromkeys(wAlice))\n",
    "\n",
    "# printing list without duplicate values\n",
    "print('List without repeated words:\\n{}.'.format(wAlice))\n",
    "\n",
    "# counting words using len function of list\n",
    "cWords = len(wAlice)\n",
    "\n",
    "# printing list with different words\n",
    "print('\\nThe file alice.txt have {} different words.'.format(cWords))"
   ]
  },
  {
   "cell_type": "markdown",
   "metadata": {},
   "source": [
    "## Exercise II - I Love Economics\n",
    "\n",
    "Consider the list *countries* in the cell below. <br>\n",
    "It consists of a list of the 3-digit ISO codes of a set of countries of interest."
   ]
  },
  {
   "cell_type": "code",
   "execution_count": 18,
   "metadata": {},
   "outputs": [],
   "source": [
    "countries = [\n",
    "\n",
    "('PRT','Portugal','Europe'),\n",
    "('ISR','Israel','Asia'), #Errata: Replace ISL by ISR\n",
    "('COL','Colombia','South America'),\n",
    "('NEV','Nevada','North America'),\n",
    "('JPN','Japan','Asia'),\n",
    "('RUS','Russia','well... which part?'),\n",
    "('DNK','Denmark','Europe'), #Errata: Replace DEN by DNK\n",
    "('NOR','Norway','Europe')\n",
    "    \n",
    "]"
   ]
  },
  {
   "cell_type": "markdown",
   "metadata": {},
   "source": [
    "**Now consider the file cdata.csv that you should download.** <br>\n",
    "The file contains several information about countries, and is organized as follows:\n",
    "1. Column 1 is the 3-digit ISO Code\n",
    "2. Column 2 is the Full name of the country\n",
    "3. Column 3 is the Continent in which the continent\n",
    "4. Column 4 is the population size in 2010\n",
    "5. Column 5 is the gdp per capita in 2010"
   ]
  },
  {
   "cell_type": "code",
   "execution_count": 19,
   "metadata": {},
   "outputs": [],
   "source": [
    "# Download the file cdata.csv in this cell.\n",
    "\n",
    "# importing csv module\n",
    "import csv\n",
    "\n",
    "# csv file name\n",
    "filename = \"cdata.csv\"\n",
    "\n",
    "with open(filename, 'r') as csvfile:\n",
    "    #creating a csv reader object\n",
    "    csvreader = csv.reader(csvfile)\n",
    "\n",
    "# closing cvs file\n",
    "csvfile.close()"
   ]
  },
  {
   "cell_type": "markdown",
   "metadata": {},
   "source": [
    "**Q**: Load the file cdata.csv into an object called RAW. <br> Create a dictionary called cData in which the key is the 3-digit ISO Code and the value is a tuple with the information contained in the 2nd to the 5th of column of the cdata file."
   ]
  },
  {
   "cell_type": "code",
   "execution_count": 20,
   "metadata": {},
   "outputs": [
    {
     "name": "stdout",
     "output_type": "stream",
     "text": [
      "Dictionary cData:\n",
      "{'ago': ('Angola', '5988.534997149481'), 'bdi': ('Burundi', '731.4232803265862'), 'ben': ('Benin', '1919.9969479963038'), 'bfa': ('Burkina Faso', '1327.2165314775982'), 'bwa': ('Botswana', '12256.14159052444'), 'caf': ('Central African Republic', '865.4421867263901'), 'cmr': ('Cameroon', '2684.972890247272'), 'cod': ('Democratic Republic of the Congo', '634.9713963013496'), 'cog': ('Republic of the Congo', '4979.990496069269'), 'com': ('Comoros', '2292.997969425929'), 'cpv': ('Cape Verde', '5644.821253339075'), 'dji': ('Djibouti', '2124.4420625972525'), 'dza': ('Algeria', '12590.224223813591'), 'egy': ('Egypt', '9148.839753298033'), 'eth': ('Ethiopia', '1100.1831875876223'), 'gab': ('Gabon', '11961.168226448879'), 'gha': ('Ghana', '3931.2918319728856'), 'gin': ('Guinea', '1742.7346742167783'), 'gmb': ('Gambia', '2681.8586168502143'), 'gnb': ('Guinea-Bissau', '1387.2497310879905'), 'gnq': ('Equatorial Guinea', '31416.887137501908'), 'ken': ('Kenya', '2484.0349094725366'), 'lbr': ('Liberia', '786.6702306741524'), 'lso': ('Lesotho', '2432.7976546880823'), 'mar': ('Morocco', '6421.937677907418'), 'mdg': ('Madagascar', '1459.9156124535612'), 'mli': ('Mali', '1873.2809618195865'), 'moz': ('Mozambique', '969.2307622526259'), 'mrt': ('Mauritania', '3082.647028528842'), 'mus': ('Mauritius', '15178.325920597827'), 'mwi': ('Malawi', '972.0456815116237'), 'nam': ('Namibia', '7689.171239820006'), 'ner': ('Niger', '845.8693682212395'), 'nga': ('Nigeria', '5186.304307542348'), 'rwa': ('Rwanda', '1379.6993252327009'), 'sdn': ('Sudan', '3608.7856176907358'), 'sen': ('Senegal', '2741.121456198507'), 'sle': ('Sierra Leone', '1161.8796942144647'), 'swz': ('Swaziland', '7042.524359035093'), 'syc': ('Seychelles', '17960.353075613308'), 'tcd': ('Chad', '1880.3748762799714'), 'tgo': ('Togo', '1222.8150529133295'), 'tun': ('Tunisia', '10647.834980284626'), 'tza': ('Tanzania', '1979.1718644815185'), 'uga': ('Uganda', '1723.5943355766267'), 'zaf': ('South Africa', '11388.640515995063'), 'zmb': ('Zambia', '2870.8872656342314'), 'zwe': ('Zimbabwe', '1479.0305839163732'), 'are': ('United Arab Emirates', '59707.412565389604'), 'arm': ('Armenia', '8222.945234202914'), 'aze': ('Azerbaijan', '12947.102198682365'), 'bgd': ('Bangladesh', '2411.1020691099325'), 'bhr': ('Bahrain', '37045.81310919623'), 'brn': ('Brunei', '67320.89957245934'), 'btn': ('Bhutan', '7235.18974818538'), 'chn': ('China', '9337.290772677254'), 'cyp': ('Cyprus', '28046.373877741087'), 'geo': ('Georgia', '7966.602756952667'), 'hkg': ('Hong Kong', '41687.946418899235'), 'ind': ('India', '4357.0597360582315'), 'irn': ('Iran', '17328.457882894658'), 'irq': ('Iraq', '9344.543768350652'), 'isr': ('Israel', '28638.9037385305'), 'jor': ('Jordan', '9351.387283068141'), 'jpn': ('Japan', '36595.63364058582'), 'kaz': ('Kazakhstan', '17908.83993251286'), 'kgz': ('Kyrgyzstan', '3382.4639059259293'), 'khm': ('Cambodia', '2330.127207632253'), 'kor': ('South Korea', '31589.705161145695'), 'kwt': ('Kuwait', '67029.51680017101'), 'lao': ('Laos', '4316.969858587265'), 'lbn': ('Lebanon', '18025.24893894264'), 'lka': ('Sri Lanka', '8390.429701766443'), 'mac': ('Macau', '91982.39517540816'), 'mdv': ('Maldives', '12140.803390739566'), 'mmr': ('Burma', '3422.241340266976'), 'mng': ('Mongolia', '7670.714034382584'), 'mys': ('Malaysia', '17913.164410782432'), 'npl': ('Nepal', '1996.1961554516242'), 'omn': ('Oman', '40472.674942509126'), 'pak': ('Pakistan', '4171.416562353057'), 'phl': ('Philippines', '5391.233965240031'), 'qat': ('Qatar', '123128.40152283433'), 'sau': ('Saudi Arabia', '42331.65885721999'), 'sgp': ('Singapore', '58618.43503468222'), 'syr': ('Syria', '5700.329438992399'), 'tha': ('Thailand', '12496.244186726299'), 'tjk': ('Tajikistan', '2784.5145587763627'), 'tkm': ('Turkmenistan', '16061.429412691556'), 'tur': ('Turkey', '17930.678781392427'), 'twn': ('Taiwan', '37188.89452901009'), 'uzb': ('Uzbekistan', '6574.51672506692'), 'vnm': ('Vietnam', '4428.42140209062'), 'yem': ('Yemen', '4553.557258443674'), 'alb': ('Albania', '9544.73991912729'), 'aut': ('Austria', '40489.80635849457'), 'bel': ('Belgium', '38177.94724875522'), 'bgr': ('Bulgaria', '14906.784964031736'), 'bih': ('Bosnia and Herzegovina', '9049.364732987471'), 'blr': ('Belarus', '16457.02937904922'), 'che': ('Switzerland', '55688.020214268225'), 'cze': ('Czech Republic', '26129.56935189834'), 'deu': ('Germany', '40627.23054942445'), 'dnk': ('Denmark', '43416.22338615916'), 'esp': ('Spain', '31610.980157042286'), 'est': ('Estonia', '20265.572596704937'), 'fin': ('Finland', '38394.06158150017'), 'fra': ('France', '35786.16161450548'), 'gbr': ('United Kingdom', '34810.28120173958'), 'grc': ('Greece', '25815.80076797162'), 'hrv': ('Croatia', '19305.008088868373'), 'hun': ('Hungary', '20477.79856764035'), 'irl': ('Ireland', '47823.50815113634'), 'isl': ('Iceland', '37729.01607603124'), 'ita': ('Italy', '34727.67268834705'), 'ltu': ('Lithuania', '18475.371145517096'), 'lux': ('Luxembourg', '57882.81020537233'), 'lva': ('Latvia', '16943.688322829523'), 'mda': ('Moldova', '4173.634753274572'), 'mkd': ('Macedonia', '11265.643175619889'), 'mlt': ('Malta', '22983.44992639125'), 'mne': ('Montenegro', '14960.94855221103'), 'nld': ('Netherlands', '44004.146024770846'), 'nor': ('Norway', '73262.68174170727'), 'pol': ('Poland', '21006.027309294514'), 'prt': ('Portugal', '25788.2739652247'), 'rou': ('Romania', '16775.609043478133'), 'rus': ('Russia', '21754.067899615977'), 'srb': ('Serbia', '12453.482551916944'), 'svk': ('Slovakia', '23061.12099058148'), 'svn': ('Slovenia', '25831.33128718208'), 'swe': ('Sweden', '40421.906436576974'), 'ukr': ('Ukraine', '8713.259627419637'), 'abw': ('Aruba', '37059.34143869512'), 'aia': ('Anguilla', '21098.057152999143'), 'atg': ('Antigua and Barbuda', '17162.16102781353'), 'bhs': ('Bahamas', '29504.581346144332'), 'blz': ('Belize', '7145.952547655193'), 'bmu': ('Bermuda', '51447.147481910884'), 'brb': ('Barbados', '13995.612896540895'), 'can': ('Canada', '40269.03526728651'), 'cri': ('Costa Rica', '12106.99191566891'), 'cuw': ('CuraÃ§ao', '24337.816177887613'), 'cym': ('Cayman Islands', '36670.678481483985'), 'dma': ('Dominica', '9101.993729581038'), 'dom': ('Dominican Republic', '11500.13134401987'), 'grd': ('Grenada', '9791.291133092265'), 'gtm': ('Guatemala', '6359.262684615136'), 'hnd': ('Honduras', '3789.9102248753848'), 'hti': ('Haiti', '1650.2697128700804'), 'jam': ('Jamaica', '6675.176956450172'), 'kna': ('Saint Kitts and Nevis', '17837.349758162076'), 'lca': ('Saint Lucia', '9178.266990673521'), 'mex': ('Mexico', '14507.011923865603'), 'msr': ('Montserrat', '15385.002991478228'), 'nic': ('Nicaragua', '3992.7619078961748'), 'pan': ('Panama', '15055.237591848218'), 'slv': ('El Salvador', '6096.958357099287'), 'tca': ('Turks and Caicos Islands', '7230.966074605446'), 'tto': ('Trinidad and Tobago', '27510.236190041924'), 'usa': ('United States', '49500.62628346238'), 'vct': ('Saint Vincent and the Grenadines', '8095.21923068351'), 'vgb': ('British Virgin Islands', '21183.279165646647'), 'aus': ('Australia', '44854.90004866657'), 'fji': ('Fiji', '6902.0687720944225'), 'nzl': ('New Zealand', '30867.05437525178'), 'arg': ('Argentina', '15841.658208158999'), 'bol': ('Bolivia', '4806.608983377068'), 'bra': ('Brazil', '13541.462561602328'), 'chl': ('Chile', '18092.94007371081')}.\n"
     ]
    }
   ],
   "source": [
    "# initializing the dictonary and lists\n",
    "cData ={}\n",
    "keys = []\n",
    "values=[]\n",
    "fields =[]\n",
    " \n",
    "# reading csv file\n",
    "with open(filename, 'r') as csvfile:\n",
    "    # creating a csv reader object with name RAW\n",
    "    RAW = csv.reader(csvfile)\n",
    "    \n",
    "    # extracting field names through first row\n",
    "    fields = next(RAW)\n",
    "    \n",
    "    # extracting each data row one by one for 2 list - one for keys and the other for values (dictionary) \n",
    "    for row in RAW:\n",
    "        # append the list with value 3-digit ISO Code (1st column)\n",
    "        keys.append(row[0])\n",
    "        # append teh list with tuple 2nd to the 5th of column\n",
    "        values.append((row[1],row[4]))\n",
    "        \n",
    "\n",
    "# creating dictonary with keys list and values list (inside tuples with information)\n",
    "for i in range(len(keys)):\n",
    "    cData[keys[i]] = values[i]\n",
    "\n",
    "# printing dictonary cData\n",
    "print('Dictionary cData:\\n{}.'.format(cData))\n",
    "\n",
    "# closing cvs file\n",
    "csvfile.close()"
   ]
  },
  {
   "cell_type": "markdown",
   "metadata": {},
   "source": [
    "**Q**: Using cData, identify what is the most common Continent among the Nations in the list countries."
   ]
  },
  {
   "cell_type": "code",
   "execution_count": 21,
   "metadata": {},
   "outputs": [
    {
     "name": "stdout",
     "output_type": "stream",
     "text": [
      "The most common(s) Continent(s) is/are Africa with 48 countries.\n"
     ]
    }
   ],
   "source": [
    "#initializing the dictonary (Key=Continent; Value=count countries)\n",
    "continentdict = {}\n",
    "\n",
    "# reading csv file\n",
    "with open(filename, 'r') as csvfile:\n",
    "    # creating a csv reader object\n",
    "    RAW = csv.reader(csvfile)\n",
    "    \n",
    "    # extracting field names through first row\n",
    "    fields = next(RAW)\n",
    "    \n",
    "    # extracting each data row one by one for 2 list - one for keys and the other for values (dictionary) \n",
    "    for row in RAW:\n",
    "        # counting countries by continent\n",
    "        if row[2] not in continentdict:\n",
    "            continentdict[row[2]] = 0\n",
    "        continentdict[row[2]] = continentdict[row[2]] + 1\n",
    "        \n",
    "# filtring continent(s), name and value, by max number of countries in two lists\n",
    "max_keys = [key for key, value in continentdict.items() if value == max(continentdict.values())]\n",
    "max_value = max([max(continentdict.values()) for dict in continentdict])\n",
    "\n",
    "# printing most common(s) continent in cData\n",
    "print('The most common(s) Continent(s) is/are {} with {} countries.'.format(*max_keys,max_value))\n",
    "\n",
    "# closing cvs file\n",
    "csvfile.close()"
   ]
  },
  {
   "cell_type": "markdown",
   "metadata": {},
   "source": [
    "**Q**: Using cData, identify the most populated nation among the countries list."
   ]
  },
  {
   "cell_type": "code",
   "execution_count": 22,
   "metadata": {},
   "outputs": [
    {
     "name": "stdout",
     "output_type": "stream",
     "text": [
      "The most populated nation(s) among the countries list is RUS with 143.15386962890625 population.\n"
     ]
    }
   ],
   "source": [
    "# creating a list with countries ISO from initial list\n",
    "isocountries = [country[0] for country in countries]\n",
    "\n",
    "# initializing the dictonary (Key=country;Value= population)\n",
    "countriesdict = {}\n",
    "\n",
    "with open(filename, 'r') as csvfile:\n",
    "    #creating a csv reader object\n",
    "    csvreader = csv.reader(csvfile)\n",
    "    \n",
    "    #extracting field names through first row\n",
    "    fields = next(csvreader)\n",
    "    \n",
    "    #extracting each data row one by one for 2 list - one for keys and the other for values (dictionary) \n",
    "    for row in csvreader:\n",
    "        if row[0].upper() in isocountries:\n",
    "            countriesdict[row[0].upper()] = float(row[3])\n",
    "\n",
    "# creating two lists that filter countries by max population\n",
    "max_keys = [key for key, value in countriesdict.items() if value == max(countriesdict.values())]\n",
    "max_value = max([max(countriesdict.values()) for dict in countriesdict])\n",
    "\n",
    "# printing the most populated nation in countries list\n",
    "print('The most populated nation(s) among the countries list is {} with {} population.'.format(*max_keys,max_value))\n",
    "\n",
    "# closing cvs file\n",
    "csvfile.close()"
   ]
  },
  {
   "cell_type": "markdown",
   "metadata": {},
   "source": [
    "**Q**: Compare the average GDP per capita of the Nations in countries list, with all the countries in the cData file. How they compare?"
   ]
  },
  {
   "cell_type": "code",
   "execution_count": 23,
   "metadata": {},
   "outputs": [
    {
     "name": "stdout",
     "output_type": "stream",
     "text": [
      "18014.65454394603\n",
      "38242.63072863724\n",
      "6\n"
     ]
    }
   ],
   "source": [
    "#compare the average GDP from the countries in the list countries with the average GDP from all the countries in cData;\n",
    "\n",
    "#creating a list with countries ISO from initial list\n",
    "isocountries = [country[0] for country in countries]\n",
    "\n",
    "#initializing the dictonary (Key=ISO;Value=gpd)\n",
    "cDatagpddict = {}\n",
    "countriesgpddict = {}\n",
    "\n",
    "with open(filename, 'r') as csvfile:\n",
    "    #creating a csv reader object\n",
    "    RAW = csv.reader(csvfile)\n",
    "    \n",
    "    #extracting field names through first row\n",
    "    fields = next(RAW)\n",
    "    \n",
    "    #extracting each data row one by one for 2 list - one for keys and the other for values (dictionary) \n",
    "    for row in RAW:\n",
    "        #append list with value 3-digit ISO Code (1st column)\n",
    "        keys.append(row[0])\n",
    "        #append list with gpd column - convert float\n",
    "        values.append(float(row[4]))\n",
    "        \n",
    "#creating dictonary with keys list and values list\n",
    "for i in range(len(keys)):\n",
    "    cDatagpddict[keys[i]] = values[i]\n",
    "\n",
    "avggpd_cData = sum(cDatagpddict.values()) / len(cDatagpddict)\n",
    "\n",
    "print(avggpd_cData)\n",
    "\n",
    "clientgpd = [value for key, value in cDatagpddict.items() if key.upper() in isocountries]\n",
    "\n",
    "avggpd_clientList= sum(clientgpd)/ len(clientgpd)\n",
    "print(avggpd_clientList)\n",
    "\n",
    "print(len(clientgpd))\n",
    "#compare the GDP of each country in list countries with the average GDP from all the countries in cData.\n",
    "\n"
   ]
  },
  {
   "cell_type": "markdown",
   "metadata": {},
   "source": [
    "# <span style=\"color:brown\"> Part 3 - Functions hurt nobody </span>\n",
    "\n",
    "## Exercise I - I hate math\n",
    "\n",
    "Consider the following equation:\n",
    "\n",
    "\\begin{equation}\n",
    "    y = 6x^2 + 3x + 2\n",
    "\\end{equation}\n",
    "\n",
    "**Q**: write a function (called f) that takes one argument, x, and returns y according to the equation above. <br> Call the function for x = 2 and print the answer."
   ]
  },
  {
   "cell_type": "code",
   "execution_count": 24,
   "metadata": {},
   "outputs": [
    {
     "name": "stdout",
     "output_type": "stream",
     "text": [
      "For x=2 the result of equation 𝑦=6𝑥^2+3𝑥+2 is 32.\n"
     ]
    }
   ],
   "source": [
    "# function that return the result of equation 𝑦=6𝑥^2+3𝑥+2\n",
    "def f(x):\n",
    "    y = 6 * x**2 + 3 * x + 2 \n",
    "    return y\n",
    "\n",
    "# initializing the variable x\n",
    "x=2\n",
    "\n",
    "# printing the result of f(x) function \n",
    "print('For x={} the result of equation 𝑦=6𝑥^2+3𝑥+2 is {}.'.format(x, f(x)))"
   ]
  },
  {
   "cell_type": "markdown",
   "metadata": {},
   "source": [
    "Consider a sequence $x_n$ of numbers, defined as follows:\n",
    "\n",
    "$\n",
    "\\begin{align}\n",
    "    ~~~ ~~~ ~~~ ~~&x_0 = 0; ~~~ ~~~ ~~~ ~~ ~~~ ~~~ ~~~ ~~ ~~~ ~~~ ~~~ ~~ ~~~ ~~~ ~~ ~ \\\\\n",
    "    ~~~ ~~~ ~~~ ~~&x_{n} = x_{n-1} - n; ~~~ \\textit{ if} ~~~ x_{n-1}-n > 0 \\textit{ and not already in the sequence} \\\\\n",
    "    ~~~ ~~~ ~~~ ~~&x_{n} = x_{n-1} + n; ~~~ \\textit{ otherwise}~~~ ~~~ ~~~ ~~ \\\\\n",
    "\\end{align}\n",
    "$\n",
    "\n",
    "**Q**: Write a function that returns the nth digit of the above defined sequence. <br>\n",
    "Note: the above sequence is also known as the Recamán's sequence, and it was invnted by Bernardo Recamán Santos (Bogotá, Colombia)"
   ]
  },
  {
   "cell_type": "code",
   "execution_count": 25,
   "metadata": {},
   "outputs": [
    {
     "name": "stdout",
     "output_type": "stream",
     "text": [
      "Input a number:10\n",
      "Recamáns sequence:[0, 1, 3, 6, 2, 7, 13, 20, 12, 21].\n",
      "The last digit for Recamáns sequence with n=10 is 21.\n"
     ]
    }
   ],
   "source": [
    "def recaman(n):\n",
    "    # creating a list to store the terms of sequence\n",
    "    seq=[]\n",
    "    if n >=0: \n",
    "        # 1st add value 0 to 1st term of list Seq;\n",
    "        # 2nd add to list seq the value of [seq[-1]-x] if not in sequence and result positive \n",
    "        # 3r otherwise add to list the value of [seq[-1]+x]\n",
    "        seq = [0]; [(seq := seq + [seq[-1]-x]) if seq[-1]-x not in seq and seq[-1]-x >0 else (seq:= seq + [seq[-1]+x]) for x in range(1,n)]\n",
    "    else:\n",
    "        # retun none if number is negative\n",
    "        return\n",
    "    \n",
    "    # printing the Recamán sequence\n",
    "    print ('Recamáns sequence:{}.'.format(seq))\n",
    "    \n",
    "    # return the last (nth digit) value from Recamán sequence\n",
    "    return seq[-1]\n",
    "\n",
    "# inputing a integer number\n",
    "number =int(input('Input a number:'))\n",
    "\n",
    "# printing the last value (nth digit) in Recamán sequence for input number\n",
    "print('The last digit for Recamáns sequence with n={} is {}.'.format(number, recaman(number)))\n",
    "\n"
   ]
  },
  {
   "cell_type": "markdown",
   "metadata": {},
   "source": [
    "## Exercise II - Role Playing with Python\n",
    "\n",
    "**Q**: Create a function named randomNr that takes a number (e.g., m) as an argument and returns a random number from 1 to m."
   ]
  },
  {
   "cell_type": "code",
   "execution_count": 35,
   "metadata": {},
   "outputs": [
    {
     "name": "stdout",
     "output_type": "stream",
     "text": [
      "Input a number >=1:10\n",
      "A random number between 1 and 10 is 5.\n"
     ]
    }
   ],
   "source": [
    "# import library random\n",
    "import random\n",
    "\n",
    "# function that return a number from 1 to m\n",
    "def randomNr (m):\n",
    "    return random.randint(1,m)\n",
    "\n",
    "# inputing a number (restricts the insertion of a number smaller than 1)\n",
    "while True:\n",
    "    number =int(input('Input a number >=1:'))\n",
    "    if not number>=1:\n",
    "        print(\"Sorry, your numeber smaller than 1. Repeat please.\")\n",
    "        continue\n",
    "    else:\n",
    "        # OK with the value given.\n",
    "        # ready to exit the loop.\n",
    "        break\n",
    "\n",
    "# printing result of randomNr function\n",
    "print('A random number between 1 and {} is {}.'.format(number,randomNr(number)))"
   ]
  },
  {
   "cell_type": "markdown",
   "metadata": {},
   "source": [
    "**Q**: Create a function named keyReturner that takes a number (n) and a dictionary (s) as arguments and returns n random keys from s."
   ]
  },
  {
   "cell_type": "code",
   "execution_count": 36,
   "metadata": {},
   "outputs": [
    {
     "name": "stdout",
     "output_type": "stream",
     "text": [
      "The random keys are: ['9843', '9823']\n"
     ]
    }
   ],
   "source": [
    "# import library random\n",
    "import random\n",
    "\n",
    "# function that return a random key \n",
    "def keyReturner(n,s):\n",
    "    # creating a list with random positions using random.sample\n",
    "    positionKeys = random.sample(range(0, len(s)), n)\n",
    "    \n",
    "    # converting index of random position in Key\n",
    "    key_list = [key for index,key in enumerate(s.keys()) if index in positionKeys]\n",
    "                                                   \n",
    "    return key_list\n",
    "\n",
    "# Initializing variables n and s\n",
    "n = 2\n",
    "s= { \n",
    "    \"1539\":\"Rick Sanchez\",\n",
    "    \"9843\":\"Morty Smith\",\n",
    "    \"8472\":\"Eve Polastri\",\n",
    "    \"3874\":\"Mildred Ratched\",\n",
    "    \"5783\":\"Alex Vause\",\n",
    "    \"9823\":\"Sheldon Cooper\"\n",
    "}\n",
    "\n",
    "# testing print function with \n",
    "print('The random keys are:',keyReturner(n,s))\n",
    "\n"
   ]
  },
  {
   "cell_type": "markdown",
   "metadata": {},
   "source": [
    "**Q**: Create a function named boolGen that takes a number (p) as argument and returns True with probability p, else it returns False.\n",
    "\n",
    "**NOTE:** Your function needs to consider if p is a number from 0 to 1 (and hence is the probability itself) or if p is between 0 to 100 (and hence is in percentage and needs to be changed to a probability). If the value inserted is inferior to 0 or bigger than 100 the function should assume p to be 0.5\n",
    "\n",
    "**To clarify**\n",
    "If p is 0.45 we will have a 45% chance to return True. If p is 55, it needs to be converted to 0.55 (having the same meaning as previously stated: 55% chance of returning true)"
   ]
  },
  {
   "cell_type": "code",
   "execution_count": 37,
   "metadata": {},
   "outputs": [
    {
     "name": "stdout",
     "output_type": "stream",
     "text": [
      "Input a probability (p):0.5\n",
      "For probability p=0.5 the random function returns False.\n"
     ]
    }
   ],
   "source": [
    "# Creating the funtion boolGen\n",
    "def boolGen(p):\n",
    "    \n",
    "    # list compreention that consider: p for p in [0,1], p/100 for p in ]1,100] and 0.5 for otherwise conditions  \n",
    "    num = p if (p>=0 and p<=1) else p/100 if (p>1 and p<=100) else 0.05 \n",
    "    \n",
    "    # return True if a random probability (between 0 and 1) less than argument p, else it returns False \n",
    "    return True if random.random() < num else False\n",
    "\n",
    "# inputing a float number\n",
    "p =float(input('Input a probability (p):'))\n",
    "\n",
    "# print funtion for input numer\n",
    "print('For probability p={} the random function returns {}.'.format(p,boolGen(p)))"
   ]
  },
  {
   "cell_type": "markdown",
   "metadata": {},
   "source": [
    "**Q**: Create a function named applyDiscount that receives a number (v) and a boolean (b) as arguments. If b is true then the function should apply a discount of 15% to the number, and return it. Otherwise it should return the number as is."
   ]
  },
  {
   "cell_type": "code",
   "execution_count": 38,
   "metadata": {},
   "outputs": [
    {
     "name": "stdout",
     "output_type": "stream",
     "text": [
      "The value without discount is 100.\n"
     ]
    }
   ],
   "source": [
    "# creating a function with 2 args: number(v) and a boolean(b)\n",
    "def applyDiscount(v, b):\n",
    "    #condition that return value with discount (if b=True) or not discount (if b=false)\n",
    "    return v*(1-0.15) if b else v\n",
    "\n",
    "#printing applyDiscount function \n",
    "\n",
    "#initializing variables to test function\n",
    "a= 100\n",
    "b= False\n",
    "\n",
    "# print value of function (with or not discount)\n",
    "print('the value with discount is ' + str(applyDiscount(a, b)) +'.' if b else \"The value without discount is \" + str(applyDiscount(a, b))+'.')\n",
    "\n"
   ]
  },
  {
   "cell_type": "markdown",
   "metadata": {},
   "source": [
    "**Q**: Create a function called customerSim. This function takes as an input two dictionaries (stock and prices). <br>\n",
    "Then it should perform the following steps:\n",
    "1. **Call randomNr** to generate a number between 1 and the maximum number of videogames available in the store's stock (this number will represent the number of videogames that will be purchased);\n",
    "2. **Call keyReturner**, passing the number of videogames that will be purchased obtained from 1. and the stock dictionary, in order to determine what are the codes of the videogames to be purchased;\n",
    "3. **Call applyDiscount** to each value in the customer order and combined with the boolGen, decide whether you apply a discount or not to each item;\n",
    "5. **Print the following message** \"Dear customer, your order of Y items has a total cost of X euros, and a 15% discount was applied to W items.\", replacing X,Y, W with the respective values.\n",
    "6. **Return a tuple** with the number of items ordered, total cost, and the total discount applied.\n",
    "\n",
    "- Run the function customerSim to simulate the orders of 10 clients."
   ]
  },
  {
   "cell_type": "code",
   "execution_count": 30,
   "metadata": {},
   "outputs": [],
   "source": [
    "#Write your function here. You have the stock and prices dictionaries below :)\n",
    "\n",
    "# adding the values with common key\n"
   ]
  },
  {
   "cell_type": "code",
   "execution_count": 39,
   "metadata": {},
   "outputs": [],
   "source": [
    "stock = {\n",
    "    \n",
    "    \"234\":\"God of War\",\n",
    "    \"956\":\"Call of Duty: Modern Warfare 2\",\n",
    "    \"365\":\"Final Fantasy IX\",\n",
    "    \"827\":\"BioShock Infinite\",\n",
    "    \"106\":\"World of Goo\",\n",
    "    \"465\":\"Metal Gear Solid V: The Phantom Pain\",\n",
    "    \"622\":\"Portal 2\",\n",
    "    \"266\":\"The Last of Us\",\n",
    "    \"534\":\"The Legend of Zelda: Majora's Mask\",\n",
    "    \"884\":\"Halo 2\",\n",
    "    \"472\":\"Red Dead Redemption\",\n",
    "    \"123\":\"Grand Theft Auto: San Andreas\"\n",
    "    \n",
    "}\n",
    "\n",
    "prices = {\n",
    "    \n",
    "    \"234\":49.99,\n",
    "    \"956\":35.0,\n",
    "    \"365\":68.99,\n",
    "    \"827\":20.99,\n",
    "    \"106\":2.50,\n",
    "    \"465\":49.99,\n",
    "    \"622\":19.99,\n",
    "    \"266\":19.99,\n",
    "    \"534\":5.99,\n",
    "    \"884\":9.99,\n",
    "    \"472\":19.99,\n",
    "    \"123\":24.99\n",
    "    \n",
    "}"
   ]
  },
  {
   "cell_type": "code",
   "execution_count": 42,
   "metadata": {},
   "outputs": [
    {
     "ename": "TypeError",
     "evalue": "unsupported operand type(s) for -: 'dict_values' and 'dict_values'",
     "output_type": "error",
     "traceback": [
      "\u001b[1;31m---------------------------------------------------------------------------\u001b[0m",
      "\u001b[1;31mTypeError\u001b[0m                                 Traceback (most recent call last)",
      "Input \u001b[1;32mIn [42]\u001b[0m, in \u001b[0;36m<cell line: 26>\u001b[1;34m()\u001b[0m\n\u001b[0;32m     22\u001b[0m     \u001b[38;5;28mprint\u001b[39m(difference)\n\u001b[0;32m     25\u001b[0m     \u001b[38;5;28;01mreturn\u001b[39;00m\n\u001b[1;32m---> 26\u001b[0m \u001b[43mcustomerSim\u001b[49m\u001b[43m \u001b[49m\u001b[43m(\u001b[49m\u001b[43mstock\u001b[49m\u001b[43m,\u001b[49m\u001b[43m \u001b[49m\u001b[43mprices\u001b[49m\u001b[43m)\u001b[49m\n",
      "Input \u001b[1;32mIn [42]\u001b[0m, in \u001b[0;36mcustomerSim\u001b[1;34m(stock, prices)\u001b[0m\n\u001b[0;32m     11\u001b[0m keys1 \u001b[38;5;241m=\u001b[39m purchaserorderprices\u001b[38;5;241m.\u001b[39mvalues()\n\u001b[0;32m     12\u001b[0m keys2 \u001b[38;5;241m=\u001b[39m purchaserorderprices\u001b[38;5;241m.\u001b[39mvalues()\n\u001b[1;32m---> 13\u001b[0m difference \u001b[38;5;241m=\u001b[39m \u001b[43mkeys1\u001b[49m\u001b[43m \u001b[49m\u001b[38;5;241;43m-\u001b[39;49m\u001b[43m \u001b[49m\u001b[43mkeys2\u001b[49m\n\u001b[0;32m     16\u001b[0m \u001b[38;5;66;03m#videogames with discount\u001b[39;00m\n\u001b[0;32m     17\u001b[0m \u001b[38;5;28mprint\u001b[39m(nrvideogames)\n",
      "\u001b[1;31mTypeError\u001b[0m: unsupported operand type(s) for -: 'dict_values' and 'dict_values'"
     ]
    }
   ],
   "source": [
    "#Call your function here :)\n",
    "\n",
    "def customerSim (stock, prices):\n",
    "    #number will represent the number of videogames that will be purchased;\n",
    "    nrvideogames = randomNr(len(stock))\n",
    "    codespurchase = keyReturner (nrvideogames, stock)\n",
    "    purchaserorder ={}\n",
    "    purchaserorder = {key:value for (key,value) in stock.items() if key in codespurchase}\n",
    "    purchaserorderprices = {key:value for (key,value) in prices.items() if key in codespurchase}\n",
    "    purchaserorderpricesdiscount = {key:applyDiscount(value, boolGen(0.5)) for (key,value) in prices.items() if key in codespurchase}\n",
    "    keys1 = purchaserorderprices.values()\n",
    "    keys2 = purchaserorderprices.values()\n",
    "    difference = keys1 - keys2\n",
    "    \n",
    "    \n",
    "    #videogames with discount\n",
    "    print(nrvideogames)\n",
    "    print(codespurchase)\n",
    "    print(purchaserorder)\n",
    "    print(purchaserorderprices)\n",
    "    print(purchaserorderpricesdiscount)\n",
    "    print(difference)\n",
    "\n",
    "    \n",
    "    return\n",
    "customerSim (stock, prices)\n"
   ]
  },
  {
   "cell_type": "markdown",
   "metadata": {},
   "source": [
    "## Exercise III - Map and Filter\n",
    "\n",
    "#### You can go to the documentation on: https://book.pythontips.com/en/latest/map_filter.html\n",
    "\n",
    "**Q**: Consider the list A declared below. Use the function map() to change the values in A by adding 1 to each value if it is even and subtracting 1 to it otherwise."
   ]
  },
  {
   "cell_type": "code",
   "execution_count": 102,
   "metadata": {},
   "outputs": [],
   "source": [
    "A = [460,3347,3044,490,699,1258,1804,973,2223,3416,2879,1058,2915,2422,351,1543,1020,208,643,795,3337,2585,471,2623,1077]"
   ]
  },
  {
   "cell_type": "code",
   "execution_count": null,
   "metadata": {},
   "outputs": [],
   "source": [
    "# creating a list where we add 1 to a even number and subtract 1 if the number is odd\n",
    "A = list(map(lambda x: (x+1) if (x%2==0) else (x-1), A))\n",
    "\n",
    "\n",
    "# printing list A\n",
    "print('Final List: {}.'. format(A))"
   ]
  },
  {
   "cell_type": "markdown",
   "metadata": {},
   "source": [
    "**Q:** Create a list B with the same size of A, and where each element is True if the associated value in list A is greater than 700, else is False. <br>\n",
    "Note: You should use the function map()"
   ]
  },
  {
   "cell_type": "code",
   "execution_count": 105,
   "metadata": {},
   "outputs": [
    {
     "name": "stdout",
     "output_type": "stream",
     "text": [
      "Final List: [False, True, True, False, False, True, True, True, True, True, True, True, True, True, False, True, True, False, False, True, True, True, False, True, True].\n"
     ]
    }
   ],
   "source": [
    "# creating a list with boolean values (True or False) that depends if value A[i] is greater than 700\n",
    "B = list(map(lambda x: (True) if (x>700) else (False), A))\n",
    "\n",
    "\n",
    "# printing list B\n",
    "print('Final List: {}.'. format(B))"
   ]
  },
  {
   "cell_type": "markdown",
   "metadata": {},
   "source": [
    "**Q**: Create a list L that contains the Logarithm of base 10 of each value in A. <br>\n",
    "Note: You should use the module math to compute the logarithm."
   ]
  },
  {
   "cell_type": "code",
   "execution_count": 106,
   "metadata": {},
   "outputs": [
    {
     "name": "stdout",
     "output_type": "stream",
     "text": [
      "Final List: [2.66, 3.52, 3.48, 2.69, 2.84, 3.1, 3.26, 2.99, 3.35, 3.53, 3.46, 3.02, 3.46, 3.38, 2.55, 3.19, 3.01, 2.32, 2.81, 2.9, 3.52, 3.41, 2.67, 3.42, 3.03].\n"
     ]
    }
   ],
   "source": [
    "#import library math\n",
    "import math\n",
    "\n",
    "#using funtion log10 to compute the Logarithm of base 10 (round to 2 points)\n",
    "L = [round(math.log10(i),2) for i in A]\n",
    "\n",
    "#printing list L\n",
    "print('Final List: {}.'. format(L))"
   ]
  },
  {
   "cell_type": "markdown",
   "metadata": {},
   "source": [
    "**Q**: How many numbers in A are greater than 1000? <br>\n",
    "Note: You should use the function filter()"
   ]
  },
  {
   "cell_type": "code",
   "execution_count": 108,
   "metadata": {},
   "outputs": [
    {
     "name": "stdout",
     "output_type": "stream",
     "text": [
      "The list A have 16 numbers greater then 1000.\n"
     ]
    }
   ],
   "source": [
    "# crating a list that filter numbers if A greater than 1000\n",
    "answerList = list(filter(lambda x: x > 1000, A))\n",
    "\n",
    "# printing list length \n",
    "print('The list A have {} numbers greater then 1000.'.format(len(answerList)))"
   ]
  },
  {
   "cell_type": "markdown",
   "metadata": {},
   "source": [
    "Congratulations, it is done! <br>\n"
   ]
  }
 ],
 "metadata": {
  "kernelspec": {
   "display_name": "Python 3 (ipykernel)",
   "language": "python",
   "name": "python3"
  },
  "language_info": {
   "codemirror_mode": {
    "name": "ipython",
    "version": 3
   },
   "file_extension": ".py",
   "mimetype": "text/x-python",
   "name": "python",
   "nbconvert_exporter": "python",
   "pygments_lexer": "ipython3",
   "version": "3.9.12"
  }
 },
 "nbformat": 4,
 "nbformat_minor": 4
}
